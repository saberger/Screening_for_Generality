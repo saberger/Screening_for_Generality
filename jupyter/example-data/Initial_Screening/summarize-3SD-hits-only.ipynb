{
 "cells": [
  {
   "cell_type": "code",
   "execution_count": null,
   "id": "a7f0081d",
   "metadata": {},
   "outputs": [],
   "source": [
    "import pandas as pd\n",
    "from glob import glob\n",
    "import openpyxl"
   ]
  },
  {
   "cell_type": "code",
   "execution_count": null,
   "id": "32611207",
   "metadata": {},
   "outputs": [],
   "source": [
    "# Combine evaluation sheets\n",
    "workbook = openpyxl.Workbook()\n",
    "sheet = workbook.active\n",
    "workbook.save('output/alldata_3SD.xlsx')"
   ]
  },
  {
   "cell_type": "code",
   "execution_count": null,
   "id": "845fafa8",
   "metadata": {},
   "outputs": [],
   "source": [
    "book_ro = openpyxl.load_workbook('output/alldata_3SD.xlsx')\n",
    "book = book_ro\n",
    "sheet1 = book.active"
   ]
  },
  {
   "cell_type": "code",
   "execution_count": null,
   "id": "7bbea5ea",
   "metadata": {},
   "outputs": [],
   "source": [
    "colx = 1\n",
    "wb = openpyxl.load_workbook('output/alldata_3SD.xlsx')\n",
    "sheet = wb.active"
   ]
  },
  {
   "cell_type": "code",
   "execution_count": null,
   "id": "437c0e51",
   "metadata": {},
   "outputs": [],
   "source": [
    "sheet1['A1'] = \"Enzyme ID\"\n",
    "sheet1['B1'] = \"Carbonyl ID\"\n",
    "sheet1['C1'] = \"Amine ID\"\n",
    "sheet1['D1'] = \"Lab Journal Code\"\n",
    "sheet1['E1'] = \"Activity Mean\"\n",
    "sheet1['F1'] = \"Activity SD\"\n",
    "sheet1['G1'] = \"Assay Method\"\n",
    "sheet1['H1'] = \"Hit\"\n",
    "sheet1['I1'] = \"Combination\""
   ]
  },
  {
   "cell_type": "code",
   "execution_count": null,
   "id": "ec19490c",
   "metadata": {},
   "outputs": [],
   "source": [
    "book.save('output/alldata_3SD.xlsx')"
   ]
  },
  {
   "cell_type": "code",
   "execution_count": null,
   "id": "b0c9eef0",
   "metadata": {},
   "outputs": [],
   "source": [
    "file_list = glob(\"*.xlsx\")"
   ]
  },
  {
   "cell_type": "code",
   "execution_count": null,
   "id": "39084832",
   "metadata": {},
   "outputs": [],
   "source": [
    "def write_data_to_sheet(counter, carbcol, amincol, labcol, actcol, stdcol, assaycol, hitcol, condcol, carbonyl, amine, labcode, activity, std, method, hit, x):\n",
    "    \"\"\"\n",
    "    Writes data to the specified columns in the sheet.\n",
    "\n",
    "    Args:\n",
    "        counter (int): The row index where the data should be written.\n",
    "        carbcol (int): The column index for the carbonyl data.\n",
    "        amincol (int): The column index for the amine data.\n",
    "        labcol (int): The column index for the lab code data.\n",
    "        actcol (int): The column index for the activity data.\n",
    "        stdcol (int): The column index for the standard data.\n",
    "        assaycol (int): The column index for the assay method data.\n",
    "        hitcol (int): The column index for the hit data.\n",
    "        condcol (int): The column index for the condition data.\n",
    "        carbonyl (str): The value to be written in the carbonyl column.\n",
    "        amine (str): The value to be written in the amine column.\n",
    "        labcode (str): The value to be written in the lab code column.\n",
    "        activity (str): The value to be written in the activity column.\n",
    "        std (str): The value to be written in the standard column.\n",
    "        method (str): The value to be written in the assay method column.\n",
    "        hit (str): The value to be written in the hit column.\n",
    "        x (str): The value to be written in the condition column.\n",
    "    \"\"\"\n",
    "    sheet1.cell(row=counter, column=carbcol, value=carbonyl)\n",
    "    sheet1.cell(row=counter, column=amincol, value=amine)\n",
    "    sheet1.cell(row=counter, column=labcol, value=labcode)\n",
    "    sheet1.cell(row=counter, column=actcol, value=activity)\n",
    "    sheet1.cell(row=counter, column=stdcol, value=std)\n",
    "    sheet1.cell(row=counter, column=assaycol, value=method)\n",
    "    sheet1.cell(row=counter, column=hitcol, value=hit)\n",
    "    sheet1.cell(row=counter, column=condcol, value=x)"
   ]
  },
  {
   "cell_type": "code",
   "execution_count": null,
   "id": "0acfdf2f",
   "metadata": {},
   "outputs": [],
   "source": [
    "# AA=\"AA\" # for 5 SD\n",
    "AA = \"AB\"  # uncomment for 3 SD and comment the line above\n",
    "plate_id = str()"
   ]
  },
  {
   "cell_type": "code",
   "execution_count": null,
   "id": "eec85346",
   "metadata": {},
   "outputs": [],
   "source": [
    "def remodeldata(plate_id, counter):\n",
    "    \"\"\"\n",
    "    Remodels the data from multiple Excel files and writes the transformed data to a new Excel file.\n",
    "\n",
    "    Args:\n",
    "        plate_id (str): The ID of the plate to extract data from.\n",
    "        counter (int): The starting value for the counter.\n",
    "\n",
    "    Returns:\n",
    "        int: The updated value of the counter.\n",
    "\n",
    "    Raises:\n",
    "        None\n",
    "    \"\"\"\n",
    "    for file in list(file_list):\n",
    "        data = pd.read_excel(file, sheet_name=None)\n",
    "        wb = openpyxl.load_workbook(file, data_only=True)\n",
    "        plate = wb[plate_id]\n",
    "        enzyme = plate['E3'].value\n",
    "        labcode = plate['E7'].value\n",
    "        method = plate['E4'].value\n",
    "        x = []\n",
    "        rownum = 11\n",
    "        actrow = 16\n",
    "        enzymecol = 1\n",
    "        carbcol = 2\n",
    "        amincol = 3\n",
    "        labcol = 4\n",
    "        actcol = 5\n",
    "        stdcol = 6\n",
    "        assaycol = 7\n",
    "        hitcol = 8\n",
    "        condcol = 9\n",
    "        while rownum < 18:\n",
    "            sheet1.cell(row=counter, column=enzymecol, value=enzyme)\n",
    "            rownum = rownum + 1\n",
    "            B = \"B\"\n",
    "            row = str(rownum)\n",
    "            cell = str(B + row)\n",
    "            x = plate[cell].value\n",
    "            carbonyl, amine = x.split(\"–\")\n",
    "            Y = \"Y\"\n",
    "            Z = \"Z\"\n",
    "            act = str(actrow)\n",
    "            cell = str(Y + act)\n",
    "            cell2 = str(Z + act)\n",
    "            cell3 = str(AA + act)\n",
    "            activity = plate[cell].value\n",
    "            std = plate[cell2].value\n",
    "            hit = plate[cell3].value\n",
    "            actrow = actrow + 1\n",
    "            write_data_to_sheet(counter, carbcol, amincol, labcol, actcol, stdcol, assaycol, hitcol, condcol, carbonyl,\n",
    "                                amine, labcode, activity, std, method, hit, x)\n",
    "            counter = counter + 1\n",
    "\n",
    "        rownum = 11\n",
    "        actrow = 24\n",
    "        while rownum < 18:\n",
    "            sheet1.cell(row=counter, column=enzymecol, value=enzyme)\n",
    "            rownum = rownum + 1\n",
    "            E = \"E\"\n",
    "            row = str(rownum)\n",
    "            cell = str(E + row)\n",
    "            x = plate[cell].value\n",
    "            carbonyl, amine = x.split(\"–\")\n",
    "            Y = \"Y\"\n",
    "            Z = \"Z\"\n",
    "            act = str(actrow)\n",
    "            cell = str(Y + act)\n",
    "            cell2 = str(Z + act)\n",
    "            cell3 = str(AA + act)\n",
    "            activity = plate[cell].value\n",
    "            std = plate[cell2].value\n",
    "            hit = plate[cell3].value\n",
    "            actrow = actrow + 1\n",
    "            write_data_to_sheet(counter, carbcol, amincol, labcol, actcol, stdcol, assaycol, hitcol, condcol, carbonyl,\n",
    "                                amine, labcode, activity, std, method, hit, x)\n",
    "            counter = counter + 1\n",
    "\n",
    "        rownum = 11\n",
    "        actrow = 32\n",
    "        while rownum < 18:\n",
    "            sheet1.cell(row=counter, column=enzymecol, value=enzyme)\n",
    "            rownum = rownum + 1\n",
    "            H = \"H\"\n",
    "            row = str(rownum)\n",
    "            cell = str(H + row)\n",
    "            x = plate[cell].value\n",
    "            carbonyl, amine = x.split(\"–\")\n",
    "            Y = \"Y\"\n",
    "            Z = \"Z\"\n",
    "            act = str(actrow)\n",
    "            cell = str(Y + act)\n",
    "            cell2 = str(Z + act)\n",
    "            cell3 = str(AA + act)\n",
    "            activity = plate[cell].value\n",
    "            std = plate[cell2].value\n",
    "            hit = plate[cell3].value\n",
    "            actrow = actrow + 1\n",
    "            write_data_to_sheet(counter, carbcol, amincol, labcol, actcol, stdcol, assaycol, hitcol, condcol, carbonyl,\n",
    "                                amine, labcode, activity, std, method, hit, x)\n",
    "            counter = counter + 1\n",
    "\n",
    "        rownum = 11\n",
    "        actrow = 40\n",
    "        while rownum < 18:\n",
    "            sheet1.cell(row=counter, column=enzymecol, value=enzyme)\n",
    "            rownum = rownum + 1\n",
    "            K = \"K\"\n",
    "            row = str(rownum)\n",
    "            cell = str(K + row)\n",
    "            x = plate[cell].value\n",
    "            carbonyl, amine = x.split(\"–\")\n",
    "            Y = \"Y\"\n",
    "            Z = \"Z\"\n",
    "            act = str(actrow)\n",
    "            cell = str(Y + act)\n",
    "            cell2 = str(Z + act)\n",
    "            cell3 = str(AA + act)\n",
    "            activity = plate[cell].value\n",
    "            std = plate[cell2].value\n",
    "            hit = plate[cell3].value\n",
    "            actrow = actrow + 1\n",
    "            write_data_to_sheet(counter, carbcol, amincol, labcol, actcol, stdcol, assaycol, hitcol, condcol, carbonyl,\n",
    "                                amine, labcode, activity, std, method, hit, x)\n",
    "            counter = counter + 1\n",
    "            book.save('output/alldata_3SD.xlsx')\n",
    "    return counter"
   ]
  },
  {
   "cell_type": "code",
   "execution_count": null,
   "id": "f16e2626",
   "metadata": {},
   "outputs": [],
   "source": [
    "counter = remodeldata(\"Plate 1\", 2)\n",
    "remodeldata(\"Plate 2\", counter)"
   ]
  },
  {
   "cell_type": "code",
   "execution_count": null,
   "id": "4f8b11b6",
   "metadata": {},
   "outputs": [],
   "source": [
    "# ----------------------------- isolate hits ----------------------------------------\n",
    "df = pd.read_excel('output/alldata_3SD.xlsx')"
   ]
  },
  {
   "cell_type": "code",
   "execution_count": null,
   "id": "9f638739",
   "metadata": {},
   "outputs": [],
   "source": [
    "# Filter rows based on 'Hit' column\n",
    "df = df[df['Hit'].isin(['Hit'])]"
   ]
  },
  {
   "cell_type": "code",
   "execution_count": null,
   "id": "e5363ec2",
   "metadata": {},
   "outputs": [],
   "source": [
    "# Remove specific combinations from 'Combination' column\n",
    "df = df[~df['Combination'].isin(['C122–A030', 'C122–A036'])]"
   ]
  },
  {
   "cell_type": "code",
   "execution_count": null,
   "id": "a2c3cc6a",
   "metadata": {},
   "outputs": [],
   "source": [
    "# Drop 'Hit' column\n",
    "df.drop('Hit', axis=1, inplace=True)"
   ]
  },
  {
   "cell_type": "code",
   "execution_count": null,
   "id": "e724350a",
   "metadata": {},
   "outputs": [],
   "source": [
    "# Rename columns\n",
    "df.columns = [\"Enzyme ID\", \"Carbonyl ID\", \"Amine ID\", \"Lab Journal Code\", \"Activity Mean\", \"Activity SD\",\n",
    "              \"Assay Method\", \"Combination\"]"
   ]
  },
  {
   "cell_type": "code",
   "execution_count": null,
   "id": "0615746d",
   "metadata": {},
   "outputs": [],
   "source": [
    "# Save filtered data to Excel file\n",
    "df.to_excel('output/matrix3SD-hits-only.xlsx', header=True, index=False)"
   ]
  }
 ],
 "metadata": {
  "jupytext": {
   "cell_metadata_filter": "-all",
   "main_language": "python",
   "notebook_metadata_filter": "-all"
  }
 },
 "nbformat": 4,
 "nbformat_minor": 5
}
