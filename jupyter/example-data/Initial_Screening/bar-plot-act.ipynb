{
 "cells": [
  {
   "cell_type": "code",
   "execution_count": null,
   "id": "2a67d9e4",
   "metadata": {},
   "outputs": [],
   "source": [
    "import numpy as np\n",
    "import matplotlib.pyplot as plt\n",
    "import matplotlib.patches as mpatches"
   ]
  },
  {
   "cell_type": "code",
   "execution_count": null,
   "id": "60820d91",
   "metadata": {},
   "outputs": [],
   "source": [
    "# Create a dataset\n",
    "filepath = input(\"Please enter the filepath for the matrix file: \")\n",
    "f = ['Starting', '1st round addition', '2nd round addition']\n",
    "x, y, z = np.genfromtxt(filepath, delimiter='', unpack=True)"
   ]
  },
  {
   "cell_type": "code",
   "execution_count": null,
   "id": "8182e0df",
   "metadata": {},
   "outputs": [],
   "source": [
    "n = 1\n",
    "r = np.arange(n)\n",
    "width = 0.25"
   ]
  },
  {
   "cell_type": "code",
   "execution_count": null,
   "id": "e9dc0949",
   "metadata": {},
   "outputs": [],
   "source": [
    "fig, axes = plt.subplots(nrows=7, ncols=8, sharex=True, sharey=False)\n",
    "axes = axes.flatten()"
   ]
  },
  {
   "cell_type": "code",
   "execution_count": null,
   "id": "2e91d7af",
   "metadata": {},
   "outputs": [],
   "source": [
    "for i in range(57):\n",
    "    ax = axes[i]  # Get the current subplot\n",
    "    ax.bar(r, x[i], color='lightsteelblue', alpha=0.6, width=width, edgecolor='black', label='Starting Panel')\n",
    "    ax.bar(r + width, y[i], color='cornflowerblue', alpha=0.6, width=width, edgecolor='black', label='1st round addition')\n",
    "    ax.bar(r + 2 * width, z[i], color='royalblue', alpha=0.6, width=width, edgecolor='black', label='2nd round addition')\n",
    "    ax.tick_params(axis='x', which='both', bottom=False, top=False, labelbottom=False)\n",
    "    ymax = max(x[i], y[i], z[i])\n",
    "    if ymax > 0:\n",
    "        ax.set_ylim([0, ymax])\n",
    "    else:\n",
    "        ax.set_ylim([0, 5])"
   ]
  },
  {
   "cell_type": "code",
   "execution_count": null,
   "id": "0a3a36f4",
   "metadata": {},
   "outputs": [],
   "source": [
    "# Add a big axis, hide frame\n",
    "fig.add_subplot(111, frameon=False)\n",
    "plt.tick_params(labelcolor='none', which='both', top=False, bottom=False, left=False, right=False)\n",
    "fig.set_size_inches(32, 18)\n",
    "plt.xlabel(\"Panels\")\n",
    "plt.ylabel(\"Max Activity [U/mgIRED]\")\n",
    "blue_patch = mpatches.Patch(color='lightsteelblue', label='Starting')\n",
    "green_patch = mpatches.Patch(color='cornflowerblue', label='1st round addition')\n",
    "black_patch = mpatches.Patch(color='royalblue', label='2nd round addition')\n",
    "fig.legend(handles=[blue_patch, green_patch, black_patch], loc='lower center', ncol=5)\n",
    "plt.show()"
   ]
  }
 ],
 "metadata": {
  "jupytext": {
   "cell_metadata_filter": "-all",
   "main_language": "python",
   "notebook_metadata_filter": "-all"
  }
 },
 "nbformat": 4,
 "nbformat_minor": 5
}
