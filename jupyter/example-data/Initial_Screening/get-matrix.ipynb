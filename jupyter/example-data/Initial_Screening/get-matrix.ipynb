{
 "cells": [
  {
   "cell_type": "code",
   "execution_count": null,
   "id": "6874a3ea",
   "metadata": {},
   "outputs": [],
   "source": [
    "import pandas as pd"
   ]
  },
  {
   "cell_type": "code",
   "execution_count": null,
   "id": "68f17d39",
   "metadata": {},
   "outputs": [],
   "source": [
    "file_path = input(\"Enter the file path: \")\n",
    "df = pd.read_excel(file_path)\n",
    "pd.set_option(\"display.max_rows\", None, \"display.max_columns\", None)\n",
    "df = df.sort_values(by='Combination')\n",
    "hitcount = df['Combination'].value_counts(sort=False)"
   ]
  },
  {
   "cell_type": "code",
   "execution_count": null,
   "id": "dfe5ff57",
   "metadata": {},
   "outputs": [],
   "source": [
    "# Print hitcount and combination in a matrix file\n",
    "matrix_df = pd.DataFrame({'Combination': hitcount.index, 'Hitcount': hitcount.values})\n",
    "matrix_df.to_csv('matrix.csv', index=False)"
   ]
  }
 ],
 "metadata": {
  "jupytext": {
   "cell_metadata_filter": "-all",
   "main_language": "python",
   "notebook_metadata_filter": "-all"
  }
 },
 "nbformat": 4,
 "nbformat_minor": 5
}
