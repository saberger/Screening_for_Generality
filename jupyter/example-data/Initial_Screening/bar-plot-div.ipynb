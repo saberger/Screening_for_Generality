{
 "cells": [
  {
   "cell_type": "code",
   "execution_count": null,
   "id": "a621f994",
   "metadata": {},
   "outputs": [],
   "source": [
    "import numpy as np\n",
    "import matplotlib.pyplot as plt\n",
    "import matplotlib.patches as mpatches"
   ]
  },
  {
   "cell_type": "code",
   "execution_count": null,
   "id": "338b46ce",
   "metadata": {},
   "outputs": [],
   "source": [
    "# Create a dataset\n",
    "filepath = input(\"Please enter the filepath for the matrix file: \")\n",
    "f = ['Starting', '1st round addition', '2nd round addition']\n",
    "x, y, z = np.genfromtxt(filepath, delimiter='', unpack=True)"
   ]
  },
  {
   "cell_type": "code",
   "execution_count": null,
   "id": "d9dc3dd0",
   "metadata": {},
   "outputs": [],
   "source": [
    "n = 1\n",
    "r = np.arange(n)\n",
    "width = 0.25"
   ]
  },
  {
   "cell_type": "code",
   "execution_count": null,
   "id": "3d66f55a",
   "metadata": {},
   "outputs": [],
   "source": [
    "fig, axes = plt.subplots(nrows=7, ncols=8, sharex=True, sharey=True)"
   ]
  },
  {
   "cell_type": "code",
   "execution_count": null,
   "id": "91a8244c",
   "metadata": {},
   "outputs": [],
   "source": [
    "i = 1"
   ]
  },
  {
   "cell_type": "code",
   "execution_count": null,
   "id": "77f5e2ac",
   "metadata": {},
   "outputs": [],
   "source": [
    "while i < 57:\n",
    "        plt.subplot(7, 8, i)\n",
    "        plt.bar(r, x[i-1], color='lightsteelblue', alpha=0.6, width=width, edgecolor='black', label='Starting Panel')\n",
    "        plt.bar(r + width, y[i-1], color='cornflowerblue', alpha=0.6, width=width, edgecolor='black', label='1st round addition')\n",
    "        plt.bar(r + 2 * width, z[i-1], color='royalblue', alpha=0.6, width=width, edgecolor='black', label='2nd round addition')\n",
    "        plt.tick_params(axis='x', which='both', bottom=False, top=False, labelbottom=False)\n",
    "        i += 1"
   ]
  },
  {
   "cell_type": "code",
   "execution_count": null,
   "id": "79f857d1",
   "metadata": {},
   "outputs": [],
   "source": [
    "fig.add_subplot(111, frameon=False)\n",
    "plt.tick_params(labelcolor='none', which='both', top=False, bottom=False, left=False, right=False)\n",
    "fig.set_size_inches(32, 18)\n",
    "plt.xlabel(\"Panels\")\n",
    "plt.ylabel(\"Hits/Enzyme\")\n",
    "blue_patch = mpatches.Patch(color='lightsteelblue', label='Starting')\n",
    "green_patch = mpatches.Patch(color='cornflowerblue', label='1st round addition')\n",
    "black_patch = mpatches.Patch(color='royalblue', label='2nd round addition')\n",
    "fig.legend(handles=[blue_patch, green_patch, black_patch], loc='lower center', ncol=5)\n",
    "plt.show()"
   ]
  }
 ],
 "metadata": {
  "jupytext": {
   "cell_metadata_filter": "-all",
   "main_language": "python",
   "notebook_metadata_filter": "-all"
  }
 },
 "nbformat": 4,
 "nbformat_minor": 5
}
