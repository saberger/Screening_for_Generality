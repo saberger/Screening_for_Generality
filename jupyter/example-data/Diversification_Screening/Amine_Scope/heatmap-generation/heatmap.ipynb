{
 "cells": [
  {
   "cell_type": "code",
   "execution_count": null,
   "id": "8c0bc163",
   "metadata": {},
   "outputs": [],
   "source": [
    "import seaborn as sns\n",
    "import pandas as pd\n",
    "import matplotlib\n",
    "import warnings\n",
    "import matplotlib.pyplot as plt"
   ]
  },
  {
   "cell_type": "code",
   "execution_count": null,
   "id": "daf6291e",
   "metadata": {},
   "outputs": [],
   "source": [
    "# Ignore Mesa loader warnings\n",
    "warnings.filterwarnings(\"ignore\", category=UserWarning, module=\"matplotlib\")"
   ]
  },
  {
   "cell_type": "code",
   "execution_count": null,
   "id": "c350d987",
   "metadata": {},
   "outputs": [],
   "source": [
    "# Create a dataset\n",
    "filepath = input(\"Please enter the filepath for the matrix file: \")\n",
    "data = pd.read_csv(filepath, delimiter='\\t', header=None)"
   ]
  },
  {
   "cell_type": "code",
   "execution_count": null,
   "id": "51240358",
   "metadata": {},
   "outputs": [],
   "source": [
    "# Default heatmap\n",
    "akws = {\"ha\": 'left', \"va\": 'bottom'}\n",
    "ax = sns.heatmap(data, cmap=\"Blues\", annot=True, annot_kws=akws, fmt=\".3g\",\n",
    "                 cbar_kws={'label': 'Hit count', 'orientation': 'vertical',\n",
    "                           'pad': 0.01, 'shrink': 0.8}, xticklabels=False,\n",
    "                 yticklabels=False)\n",
    "for t in ax.texts:\n",
    "    trans = t.get_transform()\n",
    "    offs = matplotlib.transforms.ScaledTranslation(-0.48, 0.48,\n",
    "                                                   matplotlib.transforms.IdentityTransform())\n",
    "    t.set_transform(offs + trans)\n",
    "sns.set_theme(font_scale=0.1)\n",
    "plt.tight_layout()\n",
    "plt.show()"
   ]
  }
 ],
 "metadata": {
  "jupytext": {
   "cell_metadata_filter": "-all",
   "main_language": "python",
   "notebook_metadata_filter": "-all"
  }
 },
 "nbformat": 4,
 "nbformat_minor": 5
}
