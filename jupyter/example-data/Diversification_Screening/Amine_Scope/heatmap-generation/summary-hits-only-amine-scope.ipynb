{
 "cells": [
  {
   "cell_type": "code",
   "execution_count": null,
   "id": "f1aa8de9",
   "metadata": {},
   "outputs": [],
   "source": [
    "import pandas as pd\n",
    "from glob import glob\n",
    "import openpyxl"
   ]
  },
  {
   "cell_type": "code",
   "execution_count": null,
   "id": "f87a847d",
   "metadata": {},
   "outputs": [],
   "source": [
    "# Generate environment\n",
    "workbook = openpyxl.Workbook()\n",
    "sheet = workbook.active\n",
    "outname = \"output/alldata_amine-scope.xlsx\"\n",
    "workbook.save(outname)"
   ]
  },
  {
   "cell_type": "code",
   "execution_count": null,
   "id": "dd5192bf",
   "metadata": {},
   "outputs": [],
   "source": [
    "book_ro = openpyxl.load_workbook(outname)\n",
    "book = openpyxl.Workbook()\n",
    "book._active_sheet_index = 0\n",
    "sheet1 = book.active"
   ]
  },
  {
   "cell_type": "code",
   "execution_count": null,
   "id": "369e6086",
   "metadata": {},
   "outputs": [],
   "source": [
    "colx = 1\n",
    "wb = openpyxl.load_workbook(outname, read_only=True)\n",
    "sheet = wb.active\n",
    "counter = 1"
   ]
  },
  {
   "cell_type": "code",
   "execution_count": null,
   "id": "67ac6982",
   "metadata": {},
   "outputs": [],
   "source": [
    "sheet1.cell(1, 1, \"Enzyme ID\")\n",
    "sheet1.cell(1, 2, \"Carbonyl ID\")\n",
    "sheet1.cell(1, 3, \"Amine ID\")\n",
    "sheet1.cell(1, 4, \"Lab Journal Code\")\n",
    "sheet1.cell(1, 5, \"Activity [mU/mgCFE]\")\n",
    "sheet1.cell(1, 6, \"Assay Method\")\n",
    "sheet1.cell(1, 7, \"Hit\")\n",
    "sheet1.cell(1, 8, \"Combination\")"
   ]
  },
  {
   "cell_type": "code",
   "execution_count": null,
   "id": "fd20b04d",
   "metadata": {},
   "outputs": [],
   "source": [
    "book.save(outname)"
   ]
  },
  {
   "cell_type": "code",
   "execution_count": null,
   "id": "8ae46dbd",
   "metadata": {},
   "outputs": [],
   "source": [
    "file_list = glob(\"*.xlsx\")"
   ]
  },
  {
   "cell_type": "code",
   "execution_count": null,
   "id": "9300a110",
   "metadata": {},
   "outputs": [],
   "source": [
    "for file in list(file_list):\n",
    "    data = pd.read_excel(file, sheet_name=None)\n",
    "    wb = openpyxl.load_workbook(file, data_only=True)\n",
    "    plate = wb[\"Amine Plate\"]\n",
    "    enzyme = plate['E3'].value\n",
    "    labcode = plate['E7'].value\n",
    "    method = plate['E4'].value\n",
    "    x = []\n",
    "    enzymecol = 0\n",
    "    carbcol = 1\n",
    "    amincol = 2\n",
    "    labcol = 3\n",
    "    actcol = 4\n",
    "    assaycol = 5\n",
    "    hitcol = 6\n",
    "    condcol = 7\n",
    "    rownum = 16\n",
    "\n",
    "    while rownum < 110:\n",
    "        sheet1.cell(row=counter+1, column=enzymecol+1, value=enzyme)\n",
    "        row = str(rownum)\n",
    "        cell = str('O' + row)\n",
    "        x = plate[cell].value\n",
    "        carbonyl, amine = x.split(\"–\")\n",
    "        act = str(rownum)\n",
    "        cell = str('W' + act)\n",
    "        cell2 = str('Y' + act)\n",
    "        activity = plate[cell].value\n",
    "        hit = plate[cell2].value\n",
    "        sheet1.cell(row=counter+1, column=carbcol+1, value=carbonyl)\n",
    "        sheet1.cell(row=counter+1, column=amincol+1, value=amine)\n",
    "        sheet1.cell(row=counter+1, column=labcol+1, value=labcode)\n",
    "        sheet1.cell(row=counter+1, column=actcol+1, value=activity)\n",
    "        sheet1.cell(row=counter+1, column=assaycol+1, value=method)\n",
    "        sheet1.cell(row=counter+1, column=hitcol+1, value=hit)\n",
    "        sheet1.cell(row=counter+1, column=condcol+1, value=x)\n",
    "        counter += 1\n",
    "        rownum += 1\n",
    "\n",
    "    book.save(outname)"
   ]
  },
  {
   "cell_type": "code",
   "execution_count": null,
   "id": "419ebcaf",
   "metadata": {},
   "outputs": [],
   "source": [
    "# Isolate hits\n",
    "df = pd.read_excel(outname)"
   ]
  },
  {
   "cell_type": "code",
   "execution_count": null,
   "id": "04f8c3bc",
   "metadata": {},
   "outputs": [],
   "source": [
    "combinations_to_drop = ['C105–A029', 'C105–A032', 'C105–A033', 'C139–A029', 'C139–A032', 'C139–A033']\n",
    "df = df[~df['Combination'].isin(combinations_to_drop)]"
   ]
  },
  {
   "cell_type": "code",
   "execution_count": null,
   "id": "2c41cf57",
   "metadata": {},
   "outputs": [],
   "source": [
    "df = df[df['Hit'] == 'Hit']\n",
    "df.drop('Hit', axis=1, inplace=True)"
   ]
  },
  {
   "cell_type": "code",
   "execution_count": null,
   "id": "a2e8e809",
   "metadata": {},
   "outputs": [],
   "source": [
    "df.to_excel('output/matrix-amine-hits-only.xlsx', header=False, index=False)\n",
    "df.columns = [\"Enzyme ID\", \"Carbonyl ID\", \"Amine ID\", \"Lab Journal Code\", \"Activity [mU/mgCFE]\", \"Assay Method\", \"Combination\"]\n",
    "df.to_excel('output/matrix-amine-hits-only.xlsx', index=False)"
   ]
  }
 ],
 "metadata": {
  "jupytext": {
   "cell_metadata_filter": "-all",
   "main_language": "python",
   "notebook_metadata_filter": "-all"
  }
 },
 "nbformat": 4,
 "nbformat_minor": 5
}
