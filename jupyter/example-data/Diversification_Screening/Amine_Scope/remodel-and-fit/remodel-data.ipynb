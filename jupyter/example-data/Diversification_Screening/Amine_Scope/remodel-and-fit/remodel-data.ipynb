{
 "cells": [
  {
   "cell_type": "code",
   "execution_count": null,
   "id": "c337fa0e",
   "metadata": {},
   "outputs": [],
   "source": [
    "import pandas as pd\n",
    "import openpyxl\n",
    "import glob\n",
    "import os"
   ]
  },
  {
   "cell_type": "code",
   "execution_count": null,
   "id": "2a02d6fd",
   "metadata": {},
   "outputs": [],
   "source": [
    "# Ask for user input\n",
    "directory_path = input(\"Enter the directory path: \")\n",
    "# Set the output folder path\n",
    "output_folder = os.path.join(directory_path, \"output\")"
   ]
  },
  {
   "cell_type": "code",
   "execution_count": null,
   "id": "ec676bfb",
   "metadata": {},
   "outputs": [],
   "source": [
    "# Create the output folder if it doesn't exist\n",
    "if not os.path.exists(output_folder):\n",
    "    os.makedirs(output_folder)"
   ]
  },
  {
   "cell_type": "code",
   "execution_count": null,
   "id": "750cbb4e",
   "metadata": {},
   "outputs": [],
   "source": [
    "# Get a list of all XLSX files in the directory\n",
    "xlsx_files = glob.glob(directory_path + \"/*.xlsx\")"
   ]
  },
  {
   "cell_type": "code",
   "execution_count": null,
   "id": "e870e4af",
   "metadata": {},
   "outputs": [],
   "source": [
    "# Loop over each XLSX file\n",
    "for file_path in xlsx_files:\n",
    "\n",
    "    # Read the data from the xlsx file\n",
    "    df = pd.read_excel(file_path)\n",
    "\n",
    "    # Ignore the first lines till the Match Cycle 1+2 lines and the first column\n",
    "    raw_row_index = df[df.iloc[:, 0].str.contains('^Cycle 1*', regex=True, na=False)].index[0]\n",
    "    df = df.iloc[raw_row_index+3:,1:]\n",
    "    # Split the dataframe into multiple tables\n",
    "    tables = []\n",
    "    skip_rows = 4\n",
    "    for i in range(0, len(df), 8 + skip_rows):\n",
    "        table = df.iloc[i:i+8, :12]\n",
    "        tables.append(table)\n",
    "\n",
    "    # Create a new workbook\n",
    "    new_workbook = openpyxl.Workbook()\n",
    "    new_sheet = new_workbook.active\n",
    "\n",
    "    # Iterate through the tables\n",
    "    for i, table in enumerate(tables):\n",
    "        # Reshape the table to a single line\n",
    "        reshaped_table = table.values.flatten()\n",
    "\n",
    "        # Write the reshaped table to the new sheet\n",
    "        row = i + 1\n",
    "        for j, value in enumerate(reshaped_table):\n",
    "            column = j + 1\n",
    "            new_sheet.cell(row=row, column=column, value=value)\n",
    "\n",
    "    # Save the new workbook\n",
    "    new_file_name = os.path.join(output_folder, os.path.splitext(os.path.basename(file_path))[0] + \"_new.xlsx\")\n",
    "    new_workbook.save(new_file_name)"
   ]
  }
 ],
 "metadata": {
  "jupytext": {
   "cell_metadata_filter": "-all",
   "main_language": "python",
   "notebook_metadata_filter": "-all"
  }
 },
 "nbformat": 4,
 "nbformat_minor": 5
}
