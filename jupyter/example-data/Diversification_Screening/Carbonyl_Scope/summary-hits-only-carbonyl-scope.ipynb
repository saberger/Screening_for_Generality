{
 "cells": [
  {
   "cell_type": "code",
   "execution_count": null,
   "id": "a69b7c33",
   "metadata": {},
   "outputs": [],
   "source": [
    "import pandas as pd\n",
    "from glob import glob\n",
    "import openpyxl\n",
    "# --------------------------- combine evaluation sheets ----------------------\n",
    "workbook = openpyxl.Workbook()\n",
    "sheet = workbook.active\n",
    "workbook.save('output/alldata_carbonyl.xlsx')"
   ]
  },
  {
   "cell_type": "code",
   "execution_count": null,
   "id": "f8984f07",
   "metadata": {},
   "outputs": [],
   "source": [
    "book_ro = openpyxl.load_workbook('output/alldata_carbonyl.xlsx')\n",
    "book = openpyxl.Workbook()\n",
    "book._active_sheet_index = 0\n",
    "sheet1 = book.active"
   ]
  },
  {
   "cell_type": "code",
   "execution_count": null,
   "id": "d19bf895",
   "metadata": {},
   "outputs": [],
   "source": [
    "colx = 1\n",
    "wb = openpyxl.load_workbook('output/alldata_carbonyl.xlsx', read_only=True)\n",
    "sheet = wb.active\n",
    "counter = 1"
   ]
  },
  {
   "cell_type": "code",
   "execution_count": null,
   "id": "5ab924d7",
   "metadata": {},
   "outputs": [],
   "source": [
    "sheet1.cell(1, 1, \"Enzyme ID\")\n",
    "sheet1.cell(1, 2, \"Carbonyl ID\")\n",
    "sheet1.cell(1, 3, \"Amine ID\")\n",
    "sheet1.cell(1, 4, \"Lab Journal Code\")\n",
    "sheet1.cell(1, 5, \"Target/Buffer\")\n",
    "sheet1.cell(1, 6, \"Target/Buffer\")\n",
    "sheet1.cell(1, 7, \"Assay Method\")\n",
    "sheet1.cell(1, 8, \"Hit\")\n",
    "sheet1.cell(1, 9, \"Combination\")"
   ]
  },
  {
   "cell_type": "code",
   "execution_count": null,
   "id": "f6860699",
   "metadata": {},
   "outputs": [],
   "source": [
    "book.save('output/alldata_carbonyl.xlsx')"
   ]
  },
  {
   "cell_type": "code",
   "execution_count": null,
   "id": "50d6214f",
   "metadata": {},
   "outputs": [],
   "source": [
    "file_list = glob(\"*.xlsx\")"
   ]
  },
  {
   "cell_type": "code",
   "execution_count": null,
   "id": "327d3c40",
   "metadata": {},
   "outputs": [],
   "source": [
    "for file in list(file_list):\n",
    "    data = pd.read_excel(file, sheet_name=None)\n",
    "    wb = openpyxl.load_workbook(file, data_only=True)\n",
    "    plate = wb[\"Carbonyl Scope\"]\n",
    "    enzyme = plate['B3'].value\n",
    "    labcode = plate['B7'].value\n",
    "    method = plate['B4'].value\n",
    "    x = []\n",
    "    rownum = 13\n",
    "    enzymecol = 0\n",
    "    carbcol = 1\n",
    "    amincol = 2\n",
    "    labcol = 3\n",
    "    actcol = 4\n",
    "    sn = 5\n",
    "    assaycol = 6\n",
    "    hitcol = 7\n",
    "    condcol = 8\n",
    "\n",
    "    while rownum < 109:\n",
    "        sheet1.cell(counter + 1, enzymecol + 1, enzyme)\n",
    "        rownum += 1\n",
    "        A = \"A\"\n",
    "        row = str(rownum)\n",
    "        cell = str(A + row)\n",
    "        x = plate[cell].value\n",
    "        carbonyl, amine = x.split(\"–\")\n",
    "        act = str(rownum)\n",
    "        cell = str(\"F\" + act)\n",
    "        cell2 = str(\"L\" + act)\n",
    "        cell3 = str(\"K\" + act)\n",
    "        activity = plate[cell].value\n",
    "        hit = plate[cell2].value\n",
    "        signaltonoise = plate[cell3].value\n",
    "        sheet1.cell(counter + 1, carbcol + 1, carbonyl)\n",
    "        sheet1.cell(counter + 1, amincol + 1, amine)\n",
    "        sheet1.cell(counter + 1, labcol + 1, labcode)\n",
    "        sheet1.cell(counter + 1, actcol + 1, activity)\n",
    "        sheet1.cell(counter + 1, sn + 1, signaltonoise)\n",
    "        sheet1.cell(counter + 1, assaycol + 1, method)\n",
    "        sheet1.cell(counter + 1, hitcol + 1, hit)\n",
    "        sheet1.cell(counter + 1, condcol + 1, x)\n",
    "        counter += 1\n",
    "\n",
    "    book.save('output/alldata_carbonyl.xlsx')"
   ]
  },
  {
   "cell_type": "code",
   "execution_count": null,
   "id": "bbaf89ea",
   "metadata": {},
   "outputs": [],
   "source": [
    "# ----------------------- isolate hits ------------------------------\n",
    "df = pd.read_excel('output/alldata_carbonyl.xlsx')\n",
    "to_drop = ['C078–A002']\n",
    "df = df[~df['Combination'].isin(to_drop)]\n",
    "to_drop = ['Hit']\n",
    "df = df[df['Hit'].isin(to_drop)]\n",
    "df.drop('Hit', axis=1, inplace=True)\n",
    "df.columns = [\"Enzyme ID\", \"Carbonyl ID\", \"Amine ID\", \"Lab Journal Code\",\n",
    "              \"Target/Buffer\", \"S/N\", \"Assay Method\", \"Combination\"]\n",
    "df.to_excel('output/matrix-hits-only.xlsx', index=False)"
   ]
  }
 ],
 "metadata": {
  "jupytext": {
   "cell_metadata_filter": "-all",
   "main_language": "python",
   "notebook_metadata_filter": "-all"
  }
 },
 "nbformat": 4,
 "nbformat_minor": 5
}
