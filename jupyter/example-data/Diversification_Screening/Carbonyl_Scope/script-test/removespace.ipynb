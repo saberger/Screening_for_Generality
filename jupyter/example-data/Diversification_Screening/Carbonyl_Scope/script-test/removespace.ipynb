{
 "cells": [
  {
   "cell_type": "code",
   "execution_count": null,
   "id": "3a760a27",
   "metadata": {
    "lines_to_next_cell": 1
   },
   "outputs": [],
   "source": [
    "import os"
   ]
  },
  {
   "cell_type": "code",
   "execution_count": null,
   "id": "dd33e3c1",
   "metadata": {
    "lines_to_next_cell": 1
   },
   "outputs": [],
   "source": [
    "def replace_spaces_with_underscore(directory):\n",
    "    for root, dirs, files in os.walk(directory):\n",
    "        for file in files:\n",
    "            new_file = file.replace(\" \", \"_\")\n",
    "            if new_file != file:\n",
    "                os.rename(os.path.join(root, file), os.path.join(root, new_file))\n",
    "        for dir in dirs:\n",
    "            new_dir = dir.replace(\" \", \"_\")\n",
    "            if new_dir != dir:\n",
    "                os.rename(os.path.join(root, dir), os.path.join(root, new_dir))"
   ]
  },
  {
   "cell_type": "code",
   "execution_count": null,
   "id": "e17ca4bd",
   "metadata": {},
   "outputs": [],
   "source": [
    "# Replace spaces with underscore in the current working directory\n",
    "replace_spaces_with_underscore(os.getcwd())"
   ]
  }
 ],
 "metadata": {
  "jupytext": {
   "cell_metadata_filter": "-all",
   "main_language": "python",
   "notebook_metadata_filter": "-all"
  }
 },
 "nbformat": 4,
 "nbformat_minor": 5
}
