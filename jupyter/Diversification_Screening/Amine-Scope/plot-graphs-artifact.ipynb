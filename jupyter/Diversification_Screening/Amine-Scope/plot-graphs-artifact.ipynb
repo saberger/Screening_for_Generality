{
 "cells": [
  {
   "cell_type": "code",
   "execution_count": null,
   "id": "383d72ec",
   "metadata": {
    "lines_to_next_cell": 1
   },
   "outputs": [],
   "source": [
    "import pandas as pd\n",
    "import numpy as np\n",
    "import matplotlib.pyplot as plt\n",
    "import numpy.polynomial.legendre as leg\n",
    "import glob\n",
    "import os"
   ]
  },
  {
   "cell_type": "code",
   "execution_count": null,
   "id": "a81e70df",
   "metadata": {
    "lines_to_next_cell": 1
   },
   "outputs": [],
   "source": [
    "def fit_legender(x_fit,data_fit):\n",
    "    V = leg.legvander(x_fit, deg)\n",
    "    coeffs = np.linalg.lstsq(V, data_fit)[0]\n",
    "    g = leg.legval(x_fit, coeffs)\n",
    "    coeffsd = leg.legder(coeffs, m=1) # get derivative\n",
    "    coeffsdd = leg.legder(coeffs, m=2)# get second derivative\n",
    "    h = leg.legval(x_fit, coeffsdd)\n",
    "    r = leg.legroots(h)\n",
    "    r = np.real(r)\n",
    "    k = leg.legval(r, coeffsd)\n",
    "    d = leg.legval(r, coeffs) - k * r\n",
    "    d = np.max(d)\n",
    "    k = np.min(np.real(k))\n",
    "    start = np.mean(data[:7]) #estimate how step the curve is\n",
    "    end = np.mean(data[-20:]) #based on the first and last points\n",
    "    if abs(end-start) < 500:# fit a linear if the curve is not steep\n",
    "        coef = np.polyfit(x_fit, data_fit, 1)\n",
    "        poly1d_fn = np.poly1d(coef)\n",
    "        return coef[0], g, coef[1]\n",
    "    else:\n",
    "        return k, g, d"
   ]
  },
  {
   "cell_type": "code",
   "execution_count": null,
   "id": "8cd466f7",
   "metadata": {},
   "outputs": [],
   "source": [
    "# Set the directory path where the xlsx files are located\n",
    "directory_path = input(\"Enter the directory path: \")\n",
    "# Set the output folder path\n",
    "output_folder = \"output\""
   ]
  },
  {
   "cell_type": "code",
   "execution_count": null,
   "id": "d2efe8a5",
   "metadata": {},
   "outputs": [],
   "source": [
    "# Create the output folder if it doesn't exist\n",
    "if not os.path.exists(output_folder):\n",
    "    os.makedirs(output_folder)"
   ]
  },
  {
   "cell_type": "code",
   "execution_count": null,
   "id": "05babdc3",
   "metadata": {},
   "outputs": [],
   "source": [
    "# Get a list of all xlsx files in the directory\n",
    "xlsx_files = glob.glob(directory_path + \"/*.xlsx\")\n",
    "deg = 3"
   ]
  },
  {
   "cell_type": "code",
   "execution_count": null,
   "id": "2beae143",
   "metadata": {},
   "outputs": [],
   "source": [
    "# Loop over each xlsx file\n",
    "for file_path in xlsx_files:\n",
    "    df = pd.read_excel(file_path, na_values='overflow')\n",
    "    num_columns = len(df.columns)\n",
    "    x_time = np.arange(0, len(df)*30, 30) # Assuming 30 seconds between every data point\n",
    "    num_rows = int(np.ceil(num_columns / 12))  # Assuming 12 subplots per row\n",
    "    fig, axs = plt.subplots(num_rows, 12, figsize=(20, 20))\n",
    "\n",
    "    slopes = []  # List to store the slopes\n",
    "\n",
    "    for i, column in enumerate(df.columns):\n",
    "        data = df[column].tolist()\n",
    "        x_fit = x_time[30:len(data)] #remove first 30 points and fit till end \n",
    "        data_fit = data[30:len(data)]\n",
    "        # Perform the fitting and save the function and slope\n",
    "        slope, g, d = fit_legender(x_fit,data_fit)\n",
    "        v = slope * np.array(x_fit) + d # tangent\n",
    "\n",
    "        row = i // 12\n",
    "        col = i % 12\n",
    "\n",
    "        axs[row, col].plot(x_time,data, label='Original Data')\n",
    "        axs[row, col].plot(x_fit,g, label='Legendre polynominal fit')\n",
    "        axs[row, col].plot(x_fit,v, label='Tangent')\n",
    "\n",
    "        slopes.append(slope)  # Append the slope to the list\n",
    "    \n",
    "    # Write the slopes to a file\n",
    "    # Get the input file name without the extension\n",
    "    input_file_name = os.path.splitext(file_path)[0]\n",
    "\n",
    "    # Set the output file path using the input file name\n",
    "    output_file = os.path.join(output_folder, f\"{input_file_name}_slopes.txt\")\n",
    "    with open(output_file, \"w\") as file:\n",
    "        for i, slope in enumerate(slopes):\n",
    "            file.write(str(slope))\n",
    "            if (i + 1) % 12 == 0:  # Start a new line after every 12 slopes\n",
    "                file.write(\"\\n\")\n",
    "            else:\n",
    "                file.write(\" \")\n",
    "    \n",
    "\n",
    "    fig.add_subplot(111, frameon=False)\n",
    "    plt.xlabel(\"Time (s)\")\n",
    "    plt.ylabel(\"Absorbance (OD)\")\n",
    "    # Create a single legend for all subplots\n",
    "    handles, labels = axs[0, 0].get_legend_handles_labels()\n",
    "    fig.legend(handles, labels, loc='upper right')\n",
    "    plt.tight_layout()\n",
    "    # Save the plot to a PNG file\n",
    "    plot_file_name = os.path.join(output_folder, f\"{input_file_name}_plot.png\")\n",
    "    plt.savefig(plot_file_name)"
   ]
  }
 ],
 "metadata": {
  "jupytext": {
   "cell_metadata_filter": "-all",
   "main_language": "python",
   "notebook_metadata_filter": "-all"
  }
 },
 "nbformat": 4,
 "nbformat_minor": 5
}
