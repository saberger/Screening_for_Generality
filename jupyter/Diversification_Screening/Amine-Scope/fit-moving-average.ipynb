{
 "cells": [
  {
   "cell_type": "code",
   "execution_count": null,
   "id": "9a17fc68",
   "metadata": {
    "lines_to_next_cell": 1
   },
   "outputs": [],
   "source": [
    "import numpy as np\n",
    "import pandas as pd\n",
    "import os\n",
    "import glob\n",
    "import matplotlib.pyplot as plt"
   ]
  },
  {
   "cell_type": "code",
   "execution_count": null,
   "id": "62a34a8a",
   "metadata": {},
   "outputs": [],
   "source": [
    "def moving_average(data, window_size):\n",
    "    \"\"\"\n",
    "    Calculates the moving average of a given data array.\n",
    "\n",
    "    Parameters:\n",
    "    - data (array-like): The input data array.\n",
    "    - window_size (int): The size of the moving average window.\n",
    "\n",
    "    Returns:\n",
    "    - array-like: The moving average of the input data.\n",
    "    \"\"\"\n",
    "    window = np.ones(int(window_size)) / float(window_size)\n",
    "    return np.convolve(data, window, 'same')"
   ]
  },
  {
   "cell_type": "code",
   "execution_count": null,
   "id": "f30001ff",
   "metadata": {},
   "outputs": [],
   "source": [
    "# Set the directory path where the xlsx files are located\n",
    "directory_path = input(\"Enter the directory path: \")\n",
    "# Set the output folder path\n",
    "output_folder = \"output\""
   ]
  },
  {
   "cell_type": "code",
   "execution_count": null,
   "id": "cf7e05c5",
   "metadata": {
    "lines_to_next_cell": 2
   },
   "outputs": [],
   "source": [
    "# Create the output folder if it doesn't exist\n",
    "if not os.path.exists(output_folder):\n",
    "    os.makedirs(output_folder)"
   ]
  },
  {
   "cell_type": "code",
   "execution_count": null,
   "id": "3384221e",
   "metadata": {},
   "outputs": [],
   "source": [
    "# Get a list of all xlsx files in the directory\n",
    "xlsx_files = glob.glob(directory_path + \"/*.xlsx\")"
   ]
  },
  {
   "cell_type": "code",
   "execution_count": null,
   "id": "0c293357",
   "metadata": {},
   "outputs": [],
   "source": [
    "# Loop over each xlsx file\n",
    "for file_path in xlsx_files:\n",
    "    df = pd.read_excel(file_path)\n",
    "\n",
    "    window_size = 5\n",
    "\n",
    "    num_columns = len(df.columns)\n",
    "    x_time = np.arange(0, len(df)*30, 30) # Assuming 30 seconds between every data point\n",
    "    num_rows = int(np.ceil(num_columns / 12))  # Assuming 12 subplots per row\n",
    "\n",
    "    fig, axs = plt.subplots(num_rows, 12, figsize=(20, 20))\n",
    "\n",
    "    slopes = []  # List to store the slopes\n",
    "\n",
    "    for i, column in enumerate(df.columns):\n",
    "        data = df[column].tolist()  # Read the column as data\n",
    "\n",
    "        # Fit the moving average only in the first half of the data points\n",
    "        moving_avg = moving_average(data[:len(data)//2], window_size)\n",
    "\n",
    "        # Remove the first 5 data points of the moving average\n",
    "        moving_avg = moving_avg[7:-2]\n",
    "\n",
    "        row = i // 12\n",
    "        col = i % 12\n",
    "\n",
    "        axs[row, col].plot(x_time,data, label='Original Data')\n",
    "        axs[row, col].plot(x_time[:len(moving_avg)],moving_avg, label='Moving Average Fit')\n",
    "\n",
    "        # Add linear fit to the moving average\n",
    "        x_fit = x_time[:len(moving_avg)]\n",
    "        y_fit = moving_avg[:len(moving_avg)]\n",
    "        coeffs = np.polyfit(x_fit, y_fit, 1)\n",
    "        linear_fit = np.polyval(coeffs, x_fit)\n",
    "        axs[row, col].plot(x_fit, linear_fit, label='Linear Fit')\n",
    "\n",
    "        slope = coeffs[0]  # Get the slope\n",
    "        slopes.append(slope)  # Append the slope to the list\n",
    "    \n",
    "    # Write the slopes to a file\n",
    "    # Get the input file name without the extension\n",
    "    input_file_name = os.path.splitext(file_path)[0]\n",
    "\n",
    "\n",
    "    # Set the output file path using the input file name\n",
    "    output_file = os.path.join(output_folder, f\"{input_file_name}_slopes.txt\")\n",
    "    with open(output_file, \"w\") as file:\n",
    "        for i, slope in enumerate(slopes):\n",
    "            file.write(str(slope))\n",
    "            if (i + 1) % 12 == 0:  # Start a new line after every 12 slopes\n",
    "                file.write(\"\\n\")\n",
    "            else:\n",
    "                file.write(\" \")\n",
    "    fig.add_subplot(111, frameon=False)\n",
    "    plt.xlabel(\"Time (s)\")\n",
    "    plt.ylabel(\"Absorbance (OD)\")\n",
    "    plt.tight_layout()\n",
    "    # Save the plot to a PNG file\n",
    "    plot_file_name = os.path.join(output_folder, f\"{input_file_name}_plot.png\")\n",
    "    plt.savefig(plot_file_name)"
   ]
  }
 ],
 "metadata": {
  "jupytext": {
   "cell_metadata_filter": "-all",
   "main_language": "python",
   "notebook_metadata_filter": "-all"
  }
 },
 "nbformat": 4,
 "nbformat_minor": 5
}
