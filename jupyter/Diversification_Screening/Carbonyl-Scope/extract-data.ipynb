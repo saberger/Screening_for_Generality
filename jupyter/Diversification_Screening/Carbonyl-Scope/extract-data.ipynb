{
 "cells": [
  {
   "cell_type": "code",
   "execution_count": null,
   "id": "57ef5e8a",
   "metadata": {
    "lines_to_next_cell": 1
   },
   "outputs": [],
   "source": [
    "import os\n",
    "import re\n",
    "import pdfplumber\n",
    "import csv\n",
    "import sys"
   ]
  },
  {
   "cell_type": "code",
   "execution_count": null,
   "id": "f02b9c92",
   "metadata": {
    "lines_to_next_cell": 1
   },
   "outputs": [],
   "source": [
    "def extract_total_area(pdf_path):\n",
    "  # Extract text from the PDF file using pdfplumber\n",
    "  with pdfplumber.open(pdf_path) as pdf:\n",
    "    pages = pdf.pages\n",
    "    text = \"\"\n",
    "    for page in pages:\n",
    "      text += page.extract_text(x_tolerance=2, y_tolerance=2)\n",
    "\n",
    "  # Use regular expressions to find the text between \"Signal\" matches\n",
    "  pattern = r\"Signal (.*?)(?=Signal)\"\n",
    "  matches = re.findall(pattern, text, re.DOTALL)\n",
    "\n",
    "  results = []\n",
    "  for match in matches:\n",
    "    # Use regular expressions to find the numbers after \"Totals\"\n",
    "    totals_pattern = r\"Totals.*?([\\d.]+(?:e[\\+-]?\\d+)?)\"\n",
    "    totals_matches = re.findall(totals_pattern, match)\n",
    "    if totals_matches:\n",
    "      results.extend(totals_matches)\n",
    "    else:\n",
    "      results.extend([0])\n",
    "\n",
    "  return results"
   ]
  },
  {
   "cell_type": "code",
   "execution_count": null,
   "id": "a20dbd6d",
   "metadata": {},
   "outputs": [],
   "source": [
    "# Get the input directory from command-line arguments\n",
    "input_dir = sys.argv[1] #Comment when using Windows\n",
    "#input_dir = input(\"Enter the directory path: \") #Uncomment when using Windows\n",
    "# Initialize the output CSV file\n",
    "# Get the name of the input directory\n",
    "input_dir_name = os.path.basename(input_dir)"
   ]
  },
  {
   "cell_type": "code",
   "execution_count": null,
   "id": "699fd445",
   "metadata": {},
   "outputs": [],
   "source": [
    "# Generate the output file name based on the input directory name\n",
    "output_file = f\"{input_dir_name}_output.csv\""
   ]
  },
  {
   "cell_type": "code",
   "execution_count": null,
   "id": "d3e926e0",
   "metadata": {},
   "outputs": [],
   "source": [
    "with open(output_file, \"w\", newline=\"\") as csvfile:\n",
    "  writer = csv.writer(csvfile)\n",
    "  writer.writerow([\"Total Area\"])\n",
    "\n",
    "  # Loop over all PDF files in the subfolders\n",
    "  for root, dirs, files in os.walk(input_dir):\n",
    "    dirs.sort()  # Sort the directories alphabetically\n",
    "    for file in files:\n",
    "      if file.endswith(\".pdf\"):\n",
    "        pdf_path = os.path.join(root, file)\n",
    "        file_dir = os.path.basename(os.path.dirname(pdf_path))\n",
    "        total_area = extract_total_area(pdf_path)\n",
    "        writer.writerow([file_dir] + total_area)\n",
    "  print(\"Extraction completed. Results written to\", output_file)"
   ]
  }
 ],
 "metadata": {
  "jupytext": {
   "cell_metadata_filter": "-all",
   "main_language": "python",
   "notebook_metadata_filter": "-all"
  }
 },
 "nbformat": 4,
 "nbformat_minor": 5
}
