{
 "cells": [
  {
   "cell_type": "code",
   "execution_count": null,
   "id": "aa34ad8b",
   "metadata": {},
   "outputs": [],
   "source": [
    "import numpy as np\n",
    "import matplotlib.pyplot as plt\n",
    "import matplotlib.patches as mpatches"
   ]
  },
  {
   "cell_type": "code",
   "execution_count": null,
   "id": "00486246",
   "metadata": {},
   "outputs": [],
   "source": [
    "# Create a dataset\n",
    "filepath = input(\"Please enter the filepath for the matrix file: \")\n",
    "f = ['Starting', '1st round addition', '2nd round addition']\n",
    "x, y, z = np.genfromtxt(filepath, delimiter='', unpack=True)"
   ]
  },
  {
   "cell_type": "code",
   "execution_count": null,
   "id": "99bf811f",
   "metadata": {},
   "outputs": [],
   "source": [
    "n = 1\n",
    "r = np.arange(n)\n",
    "width = 0.25"
   ]
  },
  {
   "cell_type": "code",
   "execution_count": null,
   "id": "3018cd54",
   "metadata": {},
   "outputs": [],
   "source": [
    "fig, axes = plt.subplots(nrows=7, ncols=8, sharex=True, sharey=True)"
   ]
  },
  {
   "cell_type": "code",
   "execution_count": null,
   "id": "00d41d21",
   "metadata": {},
   "outputs": [],
   "source": [
    "i = 1"
   ]
  },
  {
   "cell_type": "code",
   "execution_count": null,
   "id": "caae0003",
   "metadata": {},
   "outputs": [],
   "source": [
    "while i < 57:\n",
    "        plt.subplot(7, 8, i)\n",
    "        plt.bar(r, x[i-1], color='lightsteelblue', alpha=0.6, width=width, edgecolor='black', label='Starting Panel')\n",
    "        plt.bar(r + width, y[i-1], color='cornflowerblue', alpha=0.6, width=width, edgecolor='black', label='1st round addition')\n",
    "        plt.bar(r + 2 * width, z[i-1], color='royalblue', alpha=0.6, width=width, edgecolor='black', label='2nd round addition')\n",
    "        plt.tick_params(axis='x', which='both', bottom=False, top=False, labelbottom=False)\n",
    "        i += 1"
   ]
  },
  {
   "cell_type": "code",
   "execution_count": null,
   "id": "d10886a0",
   "metadata": {},
   "outputs": [],
   "source": [
    "fig.add_subplot(111, frameon=False)\n",
    "plt.tick_params(labelcolor='none', which='both', top=False, bottom=False, left=False, right=False)\n",
    "fig.set_size_inches(32, 18)\n",
    "plt.xlabel(\"Panels\")\n",
    "plt.ylabel(\"Hits/Enzyme\")\n",
    "blue_patch = mpatches.Patch(color='lightsteelblue', label='Starting')\n",
    "green_patch = mpatches.Patch(color='cornflowerblue', label='1st round addition')\n",
    "black_patch = mpatches.Patch(color='royalblue', label='2nd round addition')\n",
    "fig.legend(handles=[blue_patch, green_patch, black_patch], loc='lower center', ncol=5)\n",
    "plt.show()"
   ]
  }
 ],
 "metadata": {
  "jupytext": {
   "cell_metadata_filter": "-all",
   "main_language": "python",
   "notebook_metadata_filter": "-all"
  }
 },
 "nbformat": 4,
 "nbformat_minor": 5
}
