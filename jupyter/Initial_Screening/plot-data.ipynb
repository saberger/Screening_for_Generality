{
 "cells": [
  {
   "cell_type": "code",
   "execution_count": null,
   "id": "ff7ef6aa",
   "metadata": {},
   "outputs": [],
   "source": [
    "import pandas as pd\n",
    "import matplotlib.pyplot as plt"
   ]
  },
  {
   "cell_type": "code",
   "execution_count": null,
   "id": "078e80a4",
   "metadata": {},
   "outputs": [],
   "source": [
    "# Get input file paths\n",
    "filename = input(\"Enter path to data file please: \")"
   ]
  },
  {
   "cell_type": "code",
   "execution_count": null,
   "id": "bd410977",
   "metadata": {},
   "outputs": [],
   "source": [
    "# Read data from files\n",
    "data = pd.read_excel(filename)"
   ]
  },
  {
   "cell_type": "code",
   "execution_count": null,
   "id": "54a3592f",
   "metadata": {},
   "outputs": [],
   "source": [
    "# Create dataframes\n",
    "df = pd.DataFrame(data, columns=['Activity Mean', 'Activity SD', 'div'])"
   ]
  },
  {
   "cell_type": "code",
   "execution_count": null,
   "id": "58f4e837",
   "metadata": {},
   "outputs": [],
   "source": [
    "# Clean data\n",
    "x = df['div'].dropna()\n",
    "y = df['Activity Mean'].dropna()"
   ]
  },
  {
   "cell_type": "code",
   "execution_count": null,
   "id": "66409d0d",
   "metadata": {},
   "outputs": [],
   "source": [
    "# Plot data\n",
    "plt.scatter(x, y, s=55, c='b', alpha=0.5)\n",
    "plt.xlabel(\"Substrate Diversity (Hit count)\")\n",
    "plt.ylabel(\"Activity Mean [mU /mg$^{IRED}$]\")\n",
    "plt.tight_layout()\n",
    "plt.show()"
   ]
  }
 ],
 "metadata": {
  "jupytext": {
   "cell_metadata_filter": "-all",
   "main_language": "python",
   "notebook_metadata_filter": "-all"
  }
 },
 "nbformat": 4,
 "nbformat_minor": 5
}
